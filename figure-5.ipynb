{
 "cells": [
  {
   "cell_type": "code",
   "execution_count": null,
   "metadata": {},
   "outputs": [],
   "source": [
    "import torch\n",
    "import numpy as np\n",
    "import matplotlib.pyplot as plt\n",
    "\n",
    "from hypothesis_tests import NEWCORR, DCOR, HSIC, MIC, HHG\n",
    "from power import LINEAR, STEP_FUNC, W_SHAPED, SINUSOID, CIRCULAR, HETERO, NOISE_LEVELS"
   ]
  },
  {
   "cell_type": "code",
   "execution_count": null,
   "metadata": {},
   "outputs": [],
   "source": [
    "noise_values = torch.arange(NOISE_LEVELS + 1) / NOISE_LEVELS"
   ]
  },
  {
   "cell_type": "code",
   "execution_count": null,
   "metadata": {},
   "outputs": [],
   "source": [
    "def make_plot(relationship):\n",
    "    fig, ax = plt.subplots(1, 1, figsize=(5, 4))\n",
    "\n",
    "    offset = 0.02\n",
    "\n",
    "    markers = {\n",
    "        NEWCORR: \"D\",\n",
    "        DCOR: \"o\",\n",
    "        HSIC: \"+\",\n",
    "        MIC: \"^\",\n",
    "        HHG: \"x\"\n",
    "    }\n",
    "\n",
    "    for method in [DCOR, MIC, HSIC, HHG]:\n",
    "    # for method in [MIC]:\n",
    "        marker_style = {\n",
    "            \"markerfacecolor\" :'w',\n",
    "            \"markeredgecolor\":\"k\",\n",
    "            \"marker\": markers[method],\n",
    "            \"markersize\": 10,\n",
    "        }\n",
    "        powers = np.genfromtxt(f\"results/power/{method}_power_{relationship}.txt\")\n",
    "        ax.plot(noise_values, powers, color=\"k\", **marker_style, label=method)\n",
    "        # for i, power in enumerate(powers):\n",
    "        #     ax.annotate(f\"{power.item():0.2f}\", xy=(noise_values[i] + offset, power + offset))\n",
    "\n",
    "    marker_style = {\n",
    "        \"markerfacecolor\" :'w',\n",
    "        \"markeredgecolor\":\"r\",\n",
    "        \"marker\": markers[NEWCORR],\n",
    "        \"markersize\": 10,\n",
    "    }\n",
    "\n",
    "    powers = torch.load(f\"results/power/{relationship}_{NEWCORR}_powers.pt\")\n",
    "    ax.plot(noise_values, powers, color=\"r\", **marker_style, label=NEWCORR)\n",
    "    # for i, power in enumerate(powers):\n",
    "    #     ax.annotate(f\"{power.item():0.2f}\", xy=(noise_values[i] + offset, power + offset))\n",
    "\n",
    "    ax.set_xlim(-0.05, 1.05)\n",
    "    ax.set_ylim(-0.05, 1.05)\n",
    "    ax.set_title(relationship)\n",
    "    ax.set_xlabel(\"Noise Level\")\n",
    "    ax.set_ylabel(\"Power\")\n",
    "    ax.legend(loc=\"upper right\")\n",
    "    plt.show()"
   ]
  },
  {
   "cell_type": "code",
   "execution_count": null,
   "metadata": {},
   "outputs": [],
   "source": [
    "make_plot(LINEAR)"
   ]
  },
  {
   "cell_type": "code",
   "execution_count": null,
   "metadata": {},
   "outputs": [],
   "source": [
    "make_plot(STEP_FUNC)"
   ]
  },
  {
   "cell_type": "code",
   "execution_count": null,
   "metadata": {},
   "outputs": [],
   "source": [
    "make_plot(W_SHAPED)"
   ]
  },
  {
   "cell_type": "code",
   "execution_count": null,
   "metadata": {},
   "outputs": [],
   "source": [
    "make_plot(SINUSOID)"
   ]
  },
  {
   "cell_type": "code",
   "execution_count": null,
   "metadata": {},
   "outputs": [],
   "source": [
    "make_plot(CIRCULAR)"
   ]
  },
  {
   "cell_type": "code",
   "execution_count": null,
   "metadata": {},
   "outputs": [],
   "source": [
    "make_plot(HETERO)"
   ]
  },
  {
   "cell_type": "code",
   "execution_count": null,
   "metadata": {},
   "outputs": [],
   "source": []
  },
  {
   "cell_type": "code",
   "execution_count": null,
   "metadata": {},
   "outputs": [],
   "source": []
  }
 ],
 "metadata": {
  "interpreter": {
   "hash": "a471b22d759bf8c18000e539c6c19405ec3012b629190433b2956927a0c5093d"
  },
  "kernelspec": {
   "display_name": "Python 3.9.7 ('courses')",
   "language": "python",
   "name": "python3"
  },
  "language_info": {
   "codemirror_mode": {
    "name": "ipython",
    "version": 3
   },
   "file_extension": ".py",
   "mimetype": "text/x-python",
   "name": "python",
   "nbconvert_exporter": "python",
   "pygments_lexer": "ipython3",
   "version": "3.9.7"
  },
  "orig_nbformat": 4
 },
 "nbformat": 4,
 "nbformat_minor": 2
}
