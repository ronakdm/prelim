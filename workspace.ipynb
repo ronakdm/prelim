{
 "cells": [
  {
   "cell_type": "code",
   "execution_count": 1,
   "metadata": {},
   "outputs": [],
   "source": [
    "import pandas as pd\n",
    "import torch\n",
    "from hypothesis_tests import chatterjee, benjamini_hochberg"
   ]
  },
  {
   "cell_type": "markdown",
   "metadata": {},
   "source": [
    "## Spellman Yeast Gene Expression Data"
   ]
  },
  {
   "cell_type": "code",
   "execution_count": 2,
   "metadata": {},
   "outputs": [
    {
     "data": {
      "text/html": [
       "<div>\n",
       "<style scoped>\n",
       "    .dataframe tbody tr th:only-of-type {\n",
       "        vertical-align: middle;\n",
       "    }\n",
       "\n",
       "    .dataframe tbody tr th {\n",
       "        vertical-align: top;\n",
       "    }\n",
       "\n",
       "    .dataframe thead th {\n",
       "        text-align: right;\n",
       "    }\n",
       "</style>\n",
       "<table border=\"1\" class=\"dataframe\">\n",
       "  <thead>\n",
       "    <tr style=\"text-align: right;\">\n",
       "      <th></th>\n",
       "      <th>time</th>\n",
       "      <th>YAL001C</th>\n",
       "      <th>YAL014C</th>\n",
       "      <th>YAL016W</th>\n",
       "      <th>YAL020C</th>\n",
       "      <th>YAL022C</th>\n",
       "      <th>YAL036C</th>\n",
       "      <th>YAL038W</th>\n",
       "      <th>YAL039C</th>\n",
       "      <th>YAL040C</th>\n",
       "      <th>...</th>\n",
       "      <th>YPR189W</th>\n",
       "      <th>YPR191W</th>\n",
       "      <th>YPR193C</th>\n",
       "      <th>YPR194C</th>\n",
       "      <th>YPR197C</th>\n",
       "      <th>YPR198W</th>\n",
       "      <th>YPR199C</th>\n",
       "      <th>YPR201W</th>\n",
       "      <th>YPR203W</th>\n",
       "      <th>YPR204W</th>\n",
       "    </tr>\n",
       "  </thead>\n",
       "  <tbody>\n",
       "    <tr>\n",
       "      <th>0</th>\n",
       "      <td>40</td>\n",
       "      <td>-0.07</td>\n",
       "      <td>0.215</td>\n",
       "      <td>0.15</td>\n",
       "      <td>-0.350</td>\n",
       "      <td>-0.415</td>\n",
       "      <td>0.540</td>\n",
       "      <td>-0.625</td>\n",
       "      <td>0.05</td>\n",
       "      <td>0.335</td>\n",
       "      <td>...</td>\n",
       "      <td>0.13</td>\n",
       "      <td>-0.435</td>\n",
       "      <td>-0.005</td>\n",
       "      <td>-0.365</td>\n",
       "      <td>0.015</td>\n",
       "      <td>-0.06</td>\n",
       "      <td>0.155</td>\n",
       "      <td>-0.255</td>\n",
       "      <td>0.57</td>\n",
       "      <td>0.405</td>\n",
       "    </tr>\n",
       "    <tr>\n",
       "      <th>1</th>\n",
       "      <td>50</td>\n",
       "      <td>-0.23</td>\n",
       "      <td>0.090</td>\n",
       "      <td>0.15</td>\n",
       "      <td>-0.280</td>\n",
       "      <td>-0.590</td>\n",
       "      <td>0.330</td>\n",
       "      <td>-0.600</td>\n",
       "      <td>-0.24</td>\n",
       "      <td>0.050</td>\n",
       "      <td>...</td>\n",
       "      <td>0.08</td>\n",
       "      <td>-0.130</td>\n",
       "      <td>0.020</td>\n",
       "      <td>-0.590</td>\n",
       "      <td>0.100</td>\n",
       "      <td>0.08</td>\n",
       "      <td>0.190</td>\n",
       "      <td>-0.360</td>\n",
       "      <td>0.12</td>\n",
       "      <td>0.170</td>\n",
       "    </tr>\n",
       "    <tr>\n",
       "      <th>2</th>\n",
       "      <td>60</td>\n",
       "      <td>-0.10</td>\n",
       "      <td>0.025</td>\n",
       "      <td>0.22</td>\n",
       "      <td>-0.215</td>\n",
       "      <td>-0.580</td>\n",
       "      <td>0.215</td>\n",
       "      <td>-0.400</td>\n",
       "      <td>-0.19</td>\n",
       "      <td>-0.040</td>\n",
       "      <td>...</td>\n",
       "      <td>-0.06</td>\n",
       "      <td>-0.350</td>\n",
       "      <td>-0.180</td>\n",
       "      <td>-0.550</td>\n",
       "      <td>0.210</td>\n",
       "      <td>0.21</td>\n",
       "      <td>0.235</td>\n",
       "      <td>-0.300</td>\n",
       "      <td>-0.07</td>\n",
       "      <td>-0.045</td>\n",
       "    </tr>\n",
       "    <tr>\n",
       "      <th>3</th>\n",
       "      <td>70</td>\n",
       "      <td>0.03</td>\n",
       "      <td>-0.040</td>\n",
       "      <td>0.29</td>\n",
       "      <td>-0.150</td>\n",
       "      <td>-0.570</td>\n",
       "      <td>0.100</td>\n",
       "      <td>-0.200</td>\n",
       "      <td>-0.14</td>\n",
       "      <td>-0.130</td>\n",
       "      <td>...</td>\n",
       "      <td>-0.20</td>\n",
       "      <td>-0.570</td>\n",
       "      <td>-0.380</td>\n",
       "      <td>-0.510</td>\n",
       "      <td>0.320</td>\n",
       "      <td>0.34</td>\n",
       "      <td>0.280</td>\n",
       "      <td>-0.240</td>\n",
       "      <td>-0.26</td>\n",
       "      <td>-0.260</td>\n",
       "    </tr>\n",
       "    <tr>\n",
       "      <th>4</th>\n",
       "      <td>80</td>\n",
       "      <td>-0.04</td>\n",
       "      <td>-0.040</td>\n",
       "      <td>-0.10</td>\n",
       "      <td>0.160</td>\n",
       "      <td>-0.090</td>\n",
       "      <td>-0.270</td>\n",
       "      <td>-0.130</td>\n",
       "      <td>-1.22</td>\n",
       "      <td>0.020</td>\n",
       "      <td>...</td>\n",
       "      <td>0.05</td>\n",
       "      <td>-0.210</td>\n",
       "      <td>0.030</td>\n",
       "      <td>0.390</td>\n",
       "      <td>0.110</td>\n",
       "      <td>0.65</td>\n",
       "      <td>-0.260</td>\n",
       "      <td>1.300</td>\n",
       "      <td>-0.44</td>\n",
       "      <td>-0.600</td>\n",
       "    </tr>\n",
       "  </tbody>\n",
       "</table>\n",
       "<p>5 rows × 4382 columns</p>\n",
       "</div>"
      ],
      "text/plain": [
       "   time  YAL001C  YAL014C  YAL016W  YAL020C  YAL022C  YAL036C  YAL038W  \\\n",
       "0    40    -0.07    0.215     0.15   -0.350   -0.415    0.540   -0.625   \n",
       "1    50    -0.23    0.090     0.15   -0.280   -0.590    0.330   -0.600   \n",
       "2    60    -0.10    0.025     0.22   -0.215   -0.580    0.215   -0.400   \n",
       "3    70     0.03   -0.040     0.29   -0.150   -0.570    0.100   -0.200   \n",
       "4    80    -0.04   -0.040    -0.10    0.160   -0.090   -0.270   -0.130   \n",
       "\n",
       "   YAL039C  YAL040C  ...  YPR189W  YPR191W  YPR193C  YPR194C  YPR197C  \\\n",
       "0     0.05    0.335  ...     0.13   -0.435   -0.005   -0.365    0.015   \n",
       "1    -0.24    0.050  ...     0.08   -0.130    0.020   -0.590    0.100   \n",
       "2    -0.19   -0.040  ...    -0.06   -0.350   -0.180   -0.550    0.210   \n",
       "3    -0.14   -0.130  ...    -0.20   -0.570   -0.380   -0.510    0.320   \n",
       "4    -1.22    0.020  ...     0.05   -0.210    0.030    0.390    0.110   \n",
       "\n",
       "   YPR198W  YPR199C  YPR201W  YPR203W  YPR204W  \n",
       "0    -0.06    0.155   -0.255     0.57    0.405  \n",
       "1     0.08    0.190   -0.360     0.12    0.170  \n",
       "2     0.21    0.235   -0.300    -0.07   -0.045  \n",
       "3     0.34    0.280   -0.240    -0.26   -0.260  \n",
       "4     0.65   -0.260    1.300    -0.44   -0.600  \n",
       "\n",
       "[5 rows x 4382 columns]"
      ]
     },
     "execution_count": 2,
     "metadata": {},
     "output_type": "execute_result"
    }
   ],
   "source": [
    "spellman = pd.read_csv(\"data/spellman_gene_expr_data.csv\", header=0)\n",
    "spellman.head()"
   ]
  },
  {
   "cell_type": "code",
   "execution_count": 3,
   "metadata": {},
   "outputs": [
    {
     "name": "stdout",
     "output_type": "stream",
     "text": [
      "(23, 4382)\n",
      "Index(['time', 'YAL001C', 'YAL014C', 'YAL016W', 'YAL020C', 'YAL022C',\n",
      "       'YAL036C', 'YAL038W', 'YAL039C', 'YAL040C'],\n",
      "      dtype='object')\n"
     ]
    }
   ],
   "source": [
    "print(spellman.shape)\n",
    "print(spellman.columns[0:10])"
   ]
  },
  {
   "cell_type": "code",
   "execution_count": 4,
   "metadata": {},
   "outputs": [],
   "source": [
    "spellman = pd.read_csv(\"data/spellman_gene_expr_data.csv\", header=0)\n",
    "x = torch.tensor(spellman[\"time\"].values)\n",
    "genes = list(spellman.columns[1:])\n",
    "pvals = torch.zeros(len(genes))\n",
    "for i, gene in enumerate(genes):\n",
    "    y = torch.tensor(spellman[gene].values)\n",
    "    pvals[i] = chatterjee(x, y, compute_pvalue=True)[1]"
   ]
  },
  {
   "cell_type": "code",
   "execution_count": 7,
   "metadata": {},
   "outputs": [
    {
     "data": {
      "text/plain": [
       "585"
      ]
     },
     "execution_count": 7,
     "metadata": {},
     "output_type": "execute_result"
    }
   ],
   "source": [
    "rejects_idx = benjamini_hochberg(pvals)\n",
    "len(rejects_idx)"
   ]
  },
  {
   "cell_type": "code",
   "execution_count": 10,
   "metadata": {},
   "outputs": [],
   "source": [
    "reject_genes = [genes[i] for i in rejects_idx]"
   ]
  },
  {
   "cell_type": "code",
   "execution_count": 13,
   "metadata": {},
   "outputs": [
    {
     "name": "stdout",
     "output_type": "stream",
     "text": [
      "True\n",
      "True\n",
      "True\n",
      "True\n",
      "True\n",
      "True\n"
     ]
    }
   ],
   "source": [
    "selected = [\"YOR308C\", \"YJL115W\", \"YGR177C\", \"YPR119W\", \"YKL127W\", \"YHR143W\"]\n",
    "\n",
    "for gene in selected:\n",
    "    print(gene in reject_genes)"
   ]
  },
  {
   "cell_type": "code",
   "execution_count": 14,
   "metadata": {},
   "outputs": [
    {
     "name": "stdout",
     "output_type": "stream",
     "text": [
      "False\n",
      "False\n",
      "False\n",
      "False\n",
      "False\n",
      "False\n"
     ]
    }
   ],
   "source": [
    "not_selected = [\"YOR140W\", \"YCL021W\", \"YJR086W\", \"YLR406C\", \"YLR283W\", \"YOR378W\"]\n",
    "\n",
    "for gene in not_selected:\n",
    "    print(gene in reject_genes)"
   ]
  },
  {
   "cell_type": "markdown",
   "metadata": {},
   "source": [
    "## Galton's Peas Data"
   ]
  },
  {
   "cell_type": "code",
   "execution_count": null,
   "metadata": {},
   "outputs": [],
   "source": [
    "peas = pd.read_csv(\"data/galton_peas_data.csv\", header=0)"
   ]
  },
  {
   "cell_type": "code",
   "execution_count": null,
   "metadata": {},
   "outputs": [],
   "source": [
    "peas"
   ]
  },
  {
   "cell_type": "code",
   "execution_count": null,
   "metadata": {},
   "outputs": [],
   "source": [
    "# Contingency table for peas.\n",
    "\n",
    "tab = pd.crosstab(peas[\"child\"], peas[\"parent\"])"
   ]
  },
  {
   "cell_type": "code",
   "execution_count": null,
   "metadata": {},
   "outputs": [],
   "source": [
    "tab"
   ]
  },
  {
   "cell_type": "code",
   "execution_count": null,
   "metadata": {},
   "outputs": [],
   "source": [
    "tab.shape"
   ]
  },
  {
   "cell_type": "code",
   "execution_count": null,
   "metadata": {},
   "outputs": [],
   "source": []
  }
 ],
 "metadata": {
  "interpreter": {
   "hash": "a471b22d759bf8c18000e539c6c19405ec3012b629190433b2956927a0c5093d"
  },
  "kernelspec": {
   "display_name": "Python 3.9.7 ('courses')",
   "language": "python",
   "name": "python3"
  },
  "language_info": {
   "codemirror_mode": {
    "name": "ipython",
    "version": 3
   },
   "file_extension": ".py",
   "mimetype": "text/x-python",
   "name": "python",
   "nbconvert_exporter": "python",
   "pygments_lexer": "ipython3",
   "version": "3.9.7"
  },
  "orig_nbformat": 4
 },
 "nbformat": 4,
 "nbformat_minor": 2
}
