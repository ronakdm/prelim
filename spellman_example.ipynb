{
 "cells": [
  {
   "cell_type": "code",
   "execution_count": 1,
   "metadata": {},
   "outputs": [],
   "source": [
    "import torch\n",
    "import numpy as np\n",
    "import pandas as pd\n",
    "\n",
    "from hypothesis_tests import chatterjee, benjamini_hochberg, NEWCORR, COR, DCOR, HSIC, HHG, TIC"
   ]
  },
  {
   "cell_type": "code",
   "execution_count": 2,
   "metadata": {},
   "outputs": [],
   "source": [
    "competitors = [\n",
    "    COR,\n",
    "    DCOR,\n",
    "    # HSIC,\n",
    "    HHG,\n",
    "    TIC,\n",
    "]"
   ]
  },
  {
   "cell_type": "code",
   "execution_count": 3,
   "metadata": {},
   "outputs": [],
   "source": [
    "spellman = pd.read_csv(\"data/spellman_gene_expr_data.csv\", header=0)\n",
    "genes = list(spellman.columns[1:])"
   ]
  },
  {
   "cell_type": "code",
   "execution_count": 4,
   "metadata": {},
   "outputs": [],
   "source": [
    "competitor_genes = torch.zeros(len(genes))\n",
    "for method in competitors:\n",
    "    pvals = torch.tensor(np.genfromtxt(f\"results/spellman/{method}_pvalues.txt\"))\n",
    "    rejects_idx = benjamini_hochberg(pvals)\n",
    "    for i in rejects_idx:\n",
    "        competitor_genes[i] = 1"
   ]
  },
  {
   "cell_type": "code",
   "execution_count": 5,
   "metadata": {},
   "outputs": [],
   "source": [
    "chatterjee_genes = torch.zeros(len(genes))\n",
    "pvals = torch.zeros(len(genes))\n",
    "x = torch.tensor(spellman[\"time\"].values)\n",
    "for i, gene in enumerate(genes):\n",
    "    y = torch.tensor(spellman[gene].values)\n",
    "    pvals[i] = chatterjee(x, y, compute_pvalue=True)[1]\n",
    "rejects_idx = benjamini_hochberg(pvals)\n",
    "for i in rejects_idx:\n",
    "    chatterjee_genes[i] = 1"
   ]
  },
  {
   "cell_type": "code",
   "execution_count": 6,
   "metadata": {},
   "outputs": [
    {
     "name": "stdout",
     "output_type": "stream",
     "text": [
      "tensor(586.)\n",
      "tensor(703.)\n"
     ]
    }
   ],
   "source": [
    "print(chatterjee_genes.sum())\n",
    "print(competitor_genes.sum())"
   ]
  },
  {
   "cell_type": "code",
   "execution_count": 7,
   "metadata": {},
   "outputs": [
    {
     "data": {
      "text/plain": [
       "tensor(302.)"
      ]
     },
     "execution_count": 7,
     "metadata": {},
     "output_type": "execute_result"
    }
   ],
   "source": [
    "# Genes that were selected by Chatterjee but not comptitors.\n",
    "selected = torch.nn.functional.relu(chatterjee_genes - competitor_genes)\n",
    "selected.sum()"
   ]
  },
  {
   "cell_type": "code",
   "execution_count": 8,
   "metadata": {},
   "outputs": [],
   "source": [
    "lookup = {}\n",
    "for i, gene in enumerate(genes):\n",
    "    lookup[gene] = i"
   ]
  },
  {
   "cell_type": "code",
   "execution_count": 9,
   "metadata": {},
   "outputs": [
    {
     "name": "stdout",
     "output_type": "stream",
     "text": [
      "YOR308C\n",
      "tensor(1.)\n",
      "tensor(0.)\n",
      "---------------------------------\n",
      "YJL115W\n",
      "tensor(1.)\n",
      "tensor(0.)\n",
      "---------------------------------\n",
      "YGR177C\n",
      "tensor(1.)\n",
      "tensor(0.)\n",
      "---------------------------------\n",
      "YPR119W\n",
      "tensor(1.)\n",
      "tensor(0.)\n",
      "---------------------------------\n",
      "YKL127W\n",
      "tensor(1.)\n",
      "tensor(0.)\n",
      "---------------------------------\n",
      "YHR143W\n",
      "tensor(1.)\n",
      "tensor(0.)\n",
      "---------------------------------\n"
     ]
    }
   ],
   "source": [
    "picked = [\"YOR308C\", \"YJL115W\", \"YGR177C\", \"YPR119W\", \"YKL127W\", \"YHR143W\"]\n",
    "\n",
    "for gene in picked:\n",
    "    print(gene)\n",
    "    print(chatterjee_genes[lookup[gene]])\n",
    "    print(competitor_genes[lookup[gene]])\n",
    "    print(\"---------------------------------\")"
   ]
  },
  {
   "cell_type": "code",
   "execution_count": 10,
   "metadata": {},
   "outputs": [
    {
     "name": "stdout",
     "output_type": "stream",
     "text": [
      "YOR140W\n",
      "tensor(0.)\n",
      "tensor(0.)\n",
      "---------------------------------\n",
      "YCL021W\n",
      "tensor(0.)\n",
      "tensor(0.)\n",
      "---------------------------------\n",
      "YJR086W\n",
      "tensor(0.)\n",
      "tensor(1.)\n",
      "---------------------------------\n",
      "YLR406C\n",
      "tensor(0.)\n",
      "tensor(0.)\n",
      "---------------------------------\n",
      "YLR283W\n",
      "tensor(0.)\n",
      "tensor(0.)\n",
      "---------------------------------\n",
      "YOR378W\n",
      "tensor(0.)\n",
      "tensor(0.)\n",
      "---------------------------------\n"
     ]
    }
   ],
   "source": [
    "not_picked = [\n",
    "    \"YOR140W\",\n",
    "    \"YCL021W\",\n",
    "    \"YJR086W\",\n",
    "    \"YLR406C\",\n",
    "    \"YLR283W\",\n",
    "    \"YOR378W\",\n",
    "]\n",
    "for gene in not_picked:\n",
    "    print(gene)\n",
    "    print(chatterjee_genes[lookup[gene]])\n",
    "    print(competitor_genes[lookup[gene]])\n",
    "    print(\"---------------------------------\")"
   ]
  },
  {
   "cell_type": "code",
   "execution_count": null,
   "metadata": {},
   "outputs": [],
   "source": []
  }
 ],
 "metadata": {
  "interpreter": {
   "hash": "a471b22d759bf8c18000e539c6c19405ec3012b629190433b2956927a0c5093d"
  },
  "kernelspec": {
   "display_name": "Python 3.9.7 ('courses')",
   "language": "python",
   "name": "python3"
  },
  "language_info": {
   "codemirror_mode": {
    "name": "ipython",
    "version": 3
   },
   "file_extension": ".py",
   "mimetype": "text/x-python",
   "name": "python",
   "nbconvert_exporter": "python",
   "pygments_lexer": "ipython3",
   "version": "3.9.7"
  },
  "orig_nbformat": 4
 },
 "nbformat": 4,
 "nbformat_minor": 2
}
