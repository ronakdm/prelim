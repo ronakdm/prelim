{
 "cells": [
  {
   "cell_type": "code",
   "execution_count": 1,
   "metadata": {},
   "outputs": [],
   "source": [
    "import torch\n",
    "import numpy as np\n",
    "import pandas as pd\n",
    "import pickle\n",
    "\n",
    "from hypothesis_tests import chatterjee, benjamini_hochberg, NEWCORR, COR, DCOR, HSIC, HHG, TIC"
   ]
  },
  {
   "cell_type": "code",
   "execution_count": 2,
   "metadata": {},
   "outputs": [],
   "source": [
    "competitors = [\n",
    "    COR,\n",
    "    DCOR,\n",
    "    # HSIC,\n",
    "    HHG,\n",
    "    TIC,\n",
    "]"
   ]
  },
  {
   "cell_type": "code",
   "execution_count": 3,
   "metadata": {},
   "outputs": [],
   "source": [
    "spellman = pd.read_csv(\"data/spellman_gene_expr_data.csv\", header=0)\n",
    "genes = list(spellman.columns[1:])"
   ]
  },
  {
   "cell_type": "code",
   "execution_count": 4,
   "metadata": {},
   "outputs": [
    {
     "name": "stdout",
     "output_type": "stream",
     "text": [
      "New length:\t 465\n",
      "Total length:\t tensor(465.)\n",
      "New length:\t 494\n",
      "Total length:\t tensor(550.)\n",
      "New length:\t 719\n",
      "Total length:\t tensor(843.)\n",
      "New length:\t 291\n",
      "Total length:\t tensor(853.)\n"
     ]
    },
    {
     "data": {
      "text/plain": [
       "tensor(853.)"
      ]
     },
     "execution_count": 4,
     "metadata": {},
     "output_type": "execute_result"
    }
   ],
   "source": [
    "competitor_genes = torch.zeros(len(genes))\n",
    "for method in competitors:\n",
    "    # pvals = torch.tensor(np.genfromtxt(f\"results/spellman/{method}_pvalues.txt\"))\n",
    "    pvals = torch.tensor(np.genfromtxt(f\"results/spellman/{method}_pvalues.txt\"))\n",
    "    rejects_idx = benjamini_hochberg(pvals)\n",
    "    print(\"New length:\\t\", len(rejects_idx))\n",
    "    for i in rejects_idx:\n",
    "        competitor_genes[i] = 1\n",
    "    print(\"Total length:\\t\", competitor_genes.sum())\n",
    "competitor_genes.sum()"
   ]
  },
  {
   "cell_type": "code",
   "execution_count": 6,
   "metadata": {},
   "outputs": [],
   "source": [
    "chat_genes = torch.zeros(len(genes))\n",
    "pvals = torch.zeros(len(genes))\n",
    "x = torch.tensor(spellman[\"time\"].values)\n",
    "for i, gene in enumerate(genes):\n",
    "    y = torch.tensor(spellman[gene].values)\n",
    "    pvals[i] = chatterjee(x, y, compute_pvalue=True)[1]\n",
    "rejects_idx = benjamini_hochberg(pvals)\n",
    "pickle.dump(rejects_idx, open(\"results/spellman/chatterjee_pt_genes.pkl\", \"wb\"))\n",
    "rejects_idx = pickle.load(open(\"results/spellman/chatterjee_pt_genes.pkl\", \"rb\"))\n",
    "for i in rejects_idx:\n",
    "    chat_genes[i] = 1"
   ]
  },
  {
   "cell_type": "code",
   "execution_count": null,
   "metadata": {},
   "outputs": [],
   "source": []
  },
  {
   "cell_type": "code",
   "execution_count": 7,
   "metadata": {},
   "outputs": [
    {
     "name": "stdout",
     "output_type": "stream",
     "text": [
      "tensor(586.)\n",
      "tensor(853.)\n"
     ]
    }
   ],
   "source": [
    "print(chat_genes.sum())\n",
    "print(competitor_genes.sum())"
   ]
  },
  {
   "cell_type": "code",
   "execution_count": 8,
   "metadata": {},
   "outputs": [
    {
     "data": {
      "text/plain": [
       "tensor(248.)"
      ]
     },
     "execution_count": 8,
     "metadata": {},
     "output_type": "execute_result"
    }
   ],
   "source": [
    "# Genes that were selected by Chatterjee but not comptitors.\n",
    "selected = torch.nn.functional.relu(chat_genes - competitor_genes)\n",
    "selected.sum()"
   ]
  },
  {
   "cell_type": "code",
   "execution_count": 13,
   "metadata": {},
   "outputs": [
    {
     "data": {
      "text/plain": [
       "tensor([0, 0, 0, 0, 0, 0, 0, 0, 0, 0, 0, 0, 0, 0, 0, 0, 0, 0, 0, 0, 0, 0, 0, 0,\n",
       "        0, 0, 0, 1, 0, 0, 0, 0, 0, 0, 0, 0, 0, 0, 0, 0, 0, 0, 0, 1, 0, 0, 0, 0,\n",
       "        0, 0, 0, 0, 0, 0, 0, 0, 0, 0, 0, 0, 0, 0, 0, 0, 0, 0, 0, 0, 0, 0, 0, 0,\n",
       "        0, 0, 0, 0, 0, 0, 0, 0, 0, 0, 0, 0, 0, 0, 0, 0, 0, 0, 0, 0, 0, 0, 0, 1,\n",
       "        0, 0, 0, 0])"
      ]
     },
     "execution_count": 13,
     "metadata": {},
     "output_type": "execute_result"
    }
   ],
   "source": [
    "selected.long()[0:100]"
   ]
  },
  {
   "cell_type": "code",
   "execution_count": 18,
   "metadata": {},
   "outputs": [],
   "source": [
    "pvals = torch.zeros(len(genes))\n",
    "x = torch.tensor(spellman[\"time\"].values)\n",
    "for i, gene in enumerate(genes):\n",
    "    y = torch.tensor(spellman[gene].values)\n",
    "    pvals[i] = chatterjee(x, y, compute_pvalue=True)[1]"
   ]
  },
  {
   "cell_type": "code",
   "execution_count": 27,
   "metadata": {},
   "outputs": [],
   "source": [
    "sort, argsort = torch.sort(pvals[selected.bool()])\n",
    "selected_idx = torch.arange(len(selected))[selected.bool()]\n",
    "top_genes_idx = selected_idx[argsort][0:6]\n"
   ]
  },
  {
   "cell_type": "code",
   "execution_count": 28,
   "metadata": {},
   "outputs": [],
   "source": [
    "top_genes = [genes[i.item()] for i in top_genes_idx]"
   ]
  },
  {
   "cell_type": "code",
   "execution_count": 29,
   "metadata": {},
   "outputs": [
    {
     "data": {
      "text/plain": [
       "['YML058W', 'YNL283C', 'YBL003C', 'YCL014W', 'YLR462W', 'YKR010C']"
      ]
     },
     "execution_count": 29,
     "metadata": {},
     "output_type": "execute_result"
    }
   ],
   "source": [
    "top_genes"
   ]
  },
  {
   "cell_type": "code",
   "execution_count": 30,
   "metadata": {},
   "outputs": [],
   "source": [
    "import matplotlib.pyplot as plt\n",
    "import seaborn as sns\n",
    "\n",
    "from sklearn.neighbors import KNeighborsRegressor"
   ]
  },
  {
   "cell_type": "code",
   "execution_count": 33,
   "metadata": {},
   "outputs": [],
   "source": [
    "import matplotlib as mpl\n",
    "\n",
    "mpl.rcParams['lines.linewidth'] = 2\n",
    "mpl.rcParams['xtick.labelsize'] = 13\n",
    "mpl.rcParams['ytick.labelsize'] = 13\n",
    "mpl.rcParams[\"axes.labelsize\"] = 18\n",
    "mpl.rcParams['legend.fontsize'] = 12\n",
    "mpl.rcParams['axes.titlesize'] = 20\n",
    "mpl.rcParams['text.usetex'] = True"
   ]
  },
  {
   "cell_type": "code",
   "execution_count": 47,
   "metadata": {},
   "outputs": [],
   "source": [
    "def create_ax(ax, gene):\n",
    "    x = spellman[\"time\"].to_numpy()\n",
    "    y = spellman[gene].to_numpy()\n",
    "    model = KNeighborsRegressor(n_neighbors=3).fit(x.reshape(-1, 1), y)\n",
    "    y_pred = model.predict(x.reshape(-1, 1))\n",
    "\n",
    "    ax.scatter(x, y, c=\"k\")\n",
    "    ax.plot(x, y_pred, c=\"k\", alpha=0.3)\n",
    "    ax.set_xlabel(gene)\n",
    "    ax.set_xticks([])\n",
    "    ax.set_yticks([])\n"
   ]
  },
  {
   "cell_type": "code",
   "execution_count": 48,
   "metadata": {},
   "outputs": [
    {
     "data": {
      "image/png": "[encoded data removed]",
      "text/plain": [
       "<Figure size 864x792 with 6 Axes>"
      ]
     },
     "metadata": {},
     "output_type": "display_data"
    }
   ],
   "source": [
    "sns.set_style(\"white\")\n",
    "\n",
    "fig, ax = plt.subplots(3, 2, figsize=(12, 11))\n",
    "\n",
    "create_ax(ax[0, 0], top_genes[2])\n",
    "create_ax(ax[0, 1], top_genes[4])\n",
    "create_ax(ax[1, 0], top_genes[0])\n",
    "create_ax(ax[1, 1], top_genes[1])\n",
    "create_ax(ax[2, 0], top_genes[3])\n",
    "create_ax(ax[2, 1], top_genes[5])\n",
    "\n",
    "plt.subplots_adjust(left=0.1,\n",
    "                    bottom=0.1, \n",
    "                    right=0.9, \n",
    "                    top=0.9, \n",
    "                    wspace=0.18, \n",
    "                    hspace=0.7)\n",
    "# fig.suptitle(\"Spellman Gene Expression Dataset\")\n",
    "\n",
    "plt.savefig(\"figs/spellman_gene.pdf\", bbox_inches=\"tight\")"
   ]
  },
  {
   "cell_type": "code",
   "execution_count": 8,
   "metadata": {},
   "outputs": [],
   "source": [
    "lookup = {}\n",
    "for i, gene in enumerate(genes):\n",
    "    lookup[gene] = i"
   ]
  },
  {
   "cell_type": "code",
   "execution_count": 9,
   "metadata": {},
   "outputs": [
    {
     "name": "stdout",
     "output_type": "stream",
     "text": [
      "YOR308C\n",
      "tensor(1.)\n",
      "tensor(0.)\n",
      "---------------------------------\n",
      "YJL115W\n",
      "tensor(1.)\n",
      "tensor(0.)\n",
      "---------------------------------\n",
      "YGR177C\n",
      "tensor(1.)\n",
      "tensor(0.)\n",
      "---------------------------------\n",
      "YPR119W\n",
      "tensor(1.)\n",
      "tensor(0.)\n",
      "---------------------------------\n",
      "YKL127W\n",
      "tensor(1.)\n",
      "tensor(0.)\n",
      "---------------------------------\n",
      "YHR143W\n",
      "tensor(1.)\n",
      "tensor(0.)\n",
      "---------------------------------\n"
     ]
    }
   ],
   "source": [
    "picked = [\"YOR308C\", \"YJL115W\", \"YGR177C\", \"YPR119W\", \"YKL127W\", \"YHR143W\"]\n",
    "\n",
    "for gene in picked:\n",
    "    print(gene)\n",
    "    print(chatterjee_genes[lookup[gene]])\n",
    "    print(competitor_genes[lookup[gene]])\n",
    "    print(\"---------------------------------\")"
   ]
  },
  {
   "cell_type": "code",
   "execution_count": 10,
   "metadata": {},
   "outputs": [
    {
     "name": "stdout",
     "output_type": "stream",
     "text": [
      "YOR140W\n",
      "tensor(0.)\n",
      "tensor(0.)\n",
      "---------------------------------\n",
      "YCL021W\n",
      "tensor(0.)\n",
      "tensor(0.)\n",
      "---------------------------------\n",
      "YJR086W\n",
      "tensor(0.)\n",
      "tensor(1.)\n",
      "---------------------------------\n",
      "YLR406C\n",
      "tensor(0.)\n",
      "tensor(1.)\n",
      "---------------------------------\n",
      "YLR283W\n",
      "tensor(0.)\n",
      "tensor(0.)\n",
      "---------------------------------\n",
      "YOR378W\n",
      "tensor(0.)\n",
      "tensor(0.)\n",
      "---------------------------------\n"
     ]
    }
   ],
   "source": [
    "not_picked = [\n",
    "    \"YOR140W\",\n",
    "    \"YCL021W\",\n",
    "    \"YJR086W\",\n",
    "    \"YLR406C\",\n",
    "    \"YLR283W\",\n",
    "    \"YOR378W\",\n",
    "]\n",
    "for gene in not_picked:\n",
    "    print(gene)\n",
    "    print(chatterjee_genes[lookup[gene]])\n",
    "    print(competitor_genes[lookup[gene]])\n",
    "    print(\"---------------------------------\")"
   ]
  },
  {
   "cell_type": "code",
   "execution_count": null,
   "metadata": {},
   "outputs": [],
   "source": []
  }
 ],
 "metadata": {
  "interpreter": {
   "hash": "a471b22d759bf8c18000e539c6c19405ec3012b629190433b2956927a0c5093d"
  },
  "kernelspec": {
   "display_name": "Python 3.9.7 ('courses')",
   "language": "python",
   "name": "python3"
  },
  "language_info": {
   "codemirror_mode": {
    "name": "ipython",
    "version": 3
   },
   "file_extension": ".py",
   "mimetype": "text/x-python",
   "name": "python",
   "nbconvert_exporter": "python",
   "pygments_lexer": "ipython3",
   "version": "3.9.7"
  },
  "orig_nbformat": 4
 },
 "nbformat": 4,
 "nbformat_minor": 2
}
