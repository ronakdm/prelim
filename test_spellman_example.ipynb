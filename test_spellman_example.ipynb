{
 "cells": [
  {
   "cell_type": "code",
   "execution_count": 1,
   "metadata": {},
   "outputs": [],
   "source": [
    "import numpy as np\n",
    "import torch\n",
    "import pandas as pd\n",
    "import pickle\n",
    "\n",
    "from hypothesis_tests import chatterjee, benjamini_hochberg, NEWCORR, COR, DCOR, HSIC, HHG, TIC"
   ]
  },
  {
   "cell_type": "code",
   "execution_count": 2,
   "metadata": {},
   "outputs": [],
   "source": [
    "test_name = HHG"
   ]
  },
  {
   "cell_type": "code",
   "execution_count": 3,
   "metadata": {},
   "outputs": [],
   "source": [
    "ref_stats = torch.tensor(np.genfromtxt(f\"results/spellman/{test_name}_reference_stats.txt\"))\n",
    "ref_pvals = torch.tensor(np.genfromtxt(f\"results/spellman/{test_name}_reference_pvals.txt\"))\n",
    "\n",
    "# Subtract 1 moving from R indexing to Python indexing.\n",
    "ref_idx = torch.sort(torch.tensor(np.genfromtxt(f\"results/spellman/{test_name}_reference_inds.txt\"), dtype=int) - 1)[0]"
   ]
  },
  {
   "cell_type": "code",
   "execution_count": 2,
   "metadata": {},
   "outputs": [],
   "source": [
    "spellman = pd.read_csv(\"data/spellman_gene_expr_data.csv\", header=0)\n",
    "genes = list(spellman.columns[1:])"
   ]
  },
  {
   "cell_type": "code",
   "execution_count": 5,
   "metadata": {},
   "outputs": [],
   "source": [
    "# stats = torch.zeros(len(genes))\n",
    "# pvals = torch.zeros(len(genes))\n",
    "# x = torch.tensor(spellman[\"time\"].values)\n",
    "# for i, gene in enumerate(genes):\n",
    "#     y = torch.tensor(spellman[gene].values)\n",
    "#     stats[i], pvals[i] = chatterjee(x, y, compute_pvalue=True)\n",
    "# idx = torch.sort(benjamini_hochberg(pvals))[0]\n",
    "\n",
    "pvals = torch.tensor(np.genfromtxt(f\"results/spellman/{test_name}_pvalues.txt\"))\n",
    "idx = benjamini_hochberg(pvals)"
   ]
  },
  {
   "cell_type": "code",
   "execution_count": 29,
   "metadata": {},
   "outputs": [],
   "source": [
    "def absolute_error(vals, ref_vals):\n",
    "    return torch.max(torch.abs(vals - ref_vals))\n",
    "\n",
    "def relative_error(vals, ref_vals):\n",
    "    return torch.max(torch.abs((vals - ref_vals) / torch.median(ref_vals)))"
   ]
  },
  {
   "cell_type": "code",
   "execution_count": 7,
   "metadata": {},
   "outputs": [],
   "source": [
    "# Difference in statistics.\n",
    "# print(\"Absolute:\", absolute_error(stats, ref_stats))\n",
    "# print(\"Relative:\", relative_error(stats, ref_stats))"
   ]
  },
  {
   "cell_type": "code",
   "execution_count": 8,
   "metadata": {},
   "outputs": [
    {
     "name": "stdout",
     "output_type": "stream",
     "text": [
      "Absolute: tensor(0.0050, dtype=torch.float64)\n",
      "Relative: tensor(0.0446, dtype=torch.float64)\n"
     ]
    }
   ],
   "source": [
    "# Difference in p-values.\n",
    "print(\"Absolute:\", absolute_error(pvals, ref_pvals))\n",
    "print(\"Relative:\", relative_error(pvals, ref_pvals))"
   ]
  },
  {
   "cell_type": "code",
   "execution_count": 9,
   "metadata": {},
   "outputs": [
    {
     "name": "stdout",
     "output_type": "stream",
     "text": [
      "Absolute: tensor(0)\n"
     ]
    }
   ],
   "source": [
    "print(\"Absolute:\", absolute_error(idx, ref_idx))"
   ]
  },
  {
   "cell_type": "code",
   "execution_count": 3,
   "metadata": {},
   "outputs": [],
   "source": [
    "xionly = torch.sort(torch.tensor(np.genfromtxt(f\"results/spellman/full_reference_xionly.txt\"), dtype=int) - 1)[0]\n",
    "notxi = torch.sort(torch.tensor(np.genfromtxt(f\"results/spellman/full_reference_notxi.txt\"), dtype=int) - 1)[0]"
   ]
  },
  {
   "cell_type": "code",
   "execution_count": 12,
   "metadata": {},
   "outputs": [
    {
     "name": "stdout",
     "output_type": "stream",
     "text": [
      "151\n",
      "691\n"
     ]
    }
   ],
   "source": [
    "print(len(xionly))\n",
    "print(len(notxi))"
   ]
  },
  {
   "cell_type": "code",
   "execution_count": 12,
   "metadata": {},
   "outputs": [
    {
     "name": "stdout",
     "output_type": "stream",
     "text": [
      "New length:\t 465\n",
      "Total length:\t 465\n",
      "New length:\t 494\n",
      "Total length:\t 550\n",
      "New length:\t 719\n",
      "Total length:\t 843\n",
      "New length:\t 291\n",
      "Total length:\t 853\n",
      "853\n"
     ]
    }
   ],
   "source": [
    "competitors = [\n",
    "    COR,\n",
    "    DCOR,\n",
    "    # HSIC,\n",
    "    HHG,\n",
    "    TIC,\n",
    "]\n",
    "\n",
    "\n",
    "competitor_genes = set()\n",
    "for method in competitors:\n",
    "    pvals = torch.tensor(np.genfromtxt(f\"results/spellman/{method}_reference_pvals.txt\"))\n",
    "    rejects_idx = benjamini_hochberg(pvals)\n",
    "    new_genes = set([val.item() for val in rejects_idx])\n",
    "    print(\"New length:\\t\", len(new_genes))\n",
    "    competitor_genes = competitor_genes.union(new_genes)\n",
    "    print(\"Total length:\\t\", len(competitor_genes))\n",
    "\n",
    "print(len(competitor_genes))"
   ]
  },
  {
   "cell_type": "code",
   "execution_count": 16,
   "metadata": {},
   "outputs": [
    {
     "data": {
      "text/plain": [
       "586"
      ]
     },
     "execution_count": 16,
     "metadata": {},
     "output_type": "execute_result"
    }
   ],
   "source": [
    "rejects_idx = pickle.load(open(\"results/spellman/chatterjee_pt_genes.pkl\", \"rb\"))\n",
    "chat_genes = set([val.item() for val in rejects_idx])\n",
    "len(chat_genes)"
   ]
  },
  {
   "cell_type": "code",
   "execution_count": 20,
   "metadata": {},
   "outputs": [
    {
     "name": "stdout",
     "output_type": "stream",
     "text": [
      "248\n",
      "515\n"
     ]
    }
   ],
   "source": [
    "xionly_py = sorted(list(chat_genes - competitor_genes))\n",
    "notxi_py =  sorted(list(competitor_genes - chat_genes))\n",
    "print(len(xionly_py))\n",
    "print(len(notxi_py))"
   ]
  },
  {
   "cell_type": "code",
   "execution_count": 24,
   "metadata": {},
   "outputs": [
    {
     "data": {
      "text/plain": [
       "27"
      ]
     },
     "execution_count": 24,
     "metadata": {},
     "output_type": "execute_result"
    }
   ],
   "source": [
    "xionly_py[0]"
   ]
  },
  {
   "cell_type": "code",
   "execution_count": 18,
   "metadata": {},
   "outputs": [],
   "source": [
    "xionly = torch.sort(torch.tensor(np.genfromtxt(f\"results/spellman/full_reference_xionly.txt\"), dtype=int) - 1)[0]\n",
    "notxi = torch.sort(torch.tensor(np.genfromtxt(f\"results/spellman/full_reference_notxi.txt\"), dtype=int) - 1)[0]"
   ]
  },
  {
   "cell_type": "code",
   "execution_count": 27,
   "metadata": {},
   "outputs": [
    {
     "name": "stdout",
     "output_type": "stream",
     "text": [
      "tensor([ 44,  96, 102, 139, 170, 171, 226, 229, 233, 234, 275, 317, 336, 362,\n",
      "        371, 469, 478, 492, 499, 525, 596, 625, 675, 749, 831, 841, 918, 924,\n",
      "        932, 955])\n",
      "[27, 43, 95, 101, 138, 169, 170, 225, 226, 227, 228, 232, 233, 234, 264, 269, 274, 275, 290, 316, 334, 335, 361, 370, 401, 418, 419, 436, 448, 468]\n"
     ]
    }
   ],
   "source": [
    "print(xionly[0:30])\n",
    "print(xionly_py[0:30])"
   ]
  },
  {
   "cell_type": "code",
   "execution_count": 30,
   "metadata": {},
   "outputs": [
    {
     "name": "stdout",
     "output_type": "stream",
     "text": [
      "tensor(0, dtype=torch.int32)\n",
      "tensor(0, dtype=torch.int32)\n",
      "tensor(0, dtype=torch.int32)\n",
      "tensor(0, dtype=torch.int32)\n"
     ]
    }
   ],
   "source": [
    "for method in competitors:\n",
    "    ref_pvals = torch.tensor(np.genfromtxt(f\"results/spellman/{method}_reference_pvals.txt\"))\n",
    "    ref_idx = benjamini_hochberg(ref_pvals)\n",
    "    pvals = torch.tensor(np.genfromtxt(f\"results/spellman/{method}_pvalues.txt\"))\n",
    "    idx = benjamini_hochberg(pvals)\n",
    "    print(absolute_error(idx, ref_idx))"
   ]
  },
  {
   "cell_type": "code",
   "execution_count": 31,
   "metadata": {},
   "outputs": [
    {
     "data": {
      "text/plain": [
       "151"
      ]
     },
     "execution_count": 31,
     "metadata": {},
     "output_type": "execute_result"
    }
   ],
   "source": [
    "len(xionly)"
   ]
  },
  {
   "cell_type": "code",
   "execution_count": 32,
   "metadata": {},
   "outputs": [
    {
     "data": {
      "text/plain": [
       "(23, 4382)"
      ]
     },
     "execution_count": 32,
     "metadata": {},
     "output_type": "execute_result"
    }
   ],
   "source": [
    "spellman.shape"
   ]
  },
  {
   "cell_type": "code",
   "execution_count": null,
   "metadata": {},
   "outputs": [],
   "source": []
  }
 ],
 "metadata": {
  "interpreter": {
   "hash": "a471b22d759bf8c18000e539c6c19405ec3012b629190433b2956927a0c5093d"
  },
  "kernelspec": {
   "display_name": "Python 3.9.7 ('courses')",
   "language": "python",
   "name": "python3"
  },
  "language_info": {
   "codemirror_mode": {
    "name": "ipython",
    "version": 3
   },
   "file_extension": ".py",
   "mimetype": "text/x-python",
   "name": "python",
   "nbconvert_exporter": "python",
   "pygments_lexer": "ipython3",
   "version": "3.9.7"
  },
  "orig_nbformat": 4
 },
 "nbformat": 4,
 "nbformat_minor": 2
}
